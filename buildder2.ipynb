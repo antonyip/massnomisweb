{
 "cells": [
  {
   "cell_type": "code",
   "execution_count": 359,
   "metadata": {},
   "outputs": [
    {
     "name": "stdout",
     "output_type": "stream",
     "text": [
      "file_name = file1.py\n",
      "file_name = file1.py\n",
      "query_id = 0564c7df-f6f2-4f14-bf8e-816594ab431c\n"
     ]
    }
   ],
   "source": [
    "import json\n",
    "import pandas as pd\n",
    "import os\n",
    "print(\"file_name = file1.py\")\n",
    "file_name = input(\"file_name\")\n",
    "print(\"file_name = \" + file_name)\n",
    "query_id = input(\"api/query_id\")\n",
    "print(\"query_id = \" + query_id)\n",
    "\n"
   ]
  },
  {
   "cell_type": "code",
   "execution_count": 360,
   "metadata": {},
   "outputs": [
    {
     "name": "stdout",
     "output_type": "stream",
     "text": [
      "DATE\n",
      "ETHEREUM_UNIQUE_WALLETS\n",
      "POLYGON_UNIQUE_WALLETS\n"
     ]
    }
   ],
   "source": [
    "    query_id = query_id\n",
    "    df = pd.read_json(\n",
    "        f\"https://api.flipsidecrypto.com/api/v2/queries/{query_id}/data/latest\",\n",
    "        convert_dates=[\"TIMESTAMP_NTZ\"],\n",
    "    )\n",
    "    for col in df.columns:\n",
    "        print(col)\n",
    "  "
   ]
  },
  {
   "cell_type": "code",
   "execution_count": 361,
   "metadata": {},
   "outputs": [
    {
     "name": "stdout",
     "output_type": "stream",
     "text": [
      "chart types are: bar, scatter, line\n",
      "chart_type = bar\n",
      "x = DATE\n",
      "y = ETHEREUM_UNIQUE_WALLETS\n",
      "input = yay\n"
     ]
    }
   ],
   "source": [
    "print(\"chart types are: bar, scatter, line\")\n",
    "chart_type = input(\"chart_type\")\n",
    "print(\"chart_type = \" + chart_type)\n",
    "x = input(\"x\")\n",
    "print(\"x = \" + x)\n",
    "y = input(\"y\")\n",
    "print(\"y = \" + y)\n",
    "title = input(\"title\") \n",
    "print(\"input = \" + title)\n",
    "\n"
   ]
  },
  {
   "cell_type": "code",
   "execution_count": 362,
   "metadata": {},
   "outputs": [],
   "source": [
    "\n",
    "app_add_app = (\"app.add_app(\" + \"\\\"\" + file_name +  \"\\\"\" + \",\" + file_name + \".app)\")\n",
    "app_from_apps_import = \"import \" + file_name\n",
    "with open(\"file2.py\") as f:\n",
    "    lines = f.readlines()\n",
    "with open(\"file2.py\", \"w\") as f:\n",
    "    lines.insert(0, app_add_app)\n",
    "    f.write(\"\\n\".join(lines))\n",
    "\n",
    "\n"
   ]
  },
  {
   "cell_type": "code",
   "execution_count": 363,
   "metadata": {},
   "outputs": [
    {
     "name": "stdout",
     "output_type": "stream",
     "text": [
      "import streamlit as st\n",
      "from massnomisweb import file3.py\n",
      "app = MultiApp()\n",
      "st.set_page_config(layout=\"wide\")\n",
      "st.markdown(\"\"\"\n",
      "# \n",
      "\"\"\")\n"
     ]
    }
   ],
   "source": [
    "file3 = \"yeet\"\n",
    "MultiApp = \" file3.py\"\n",
    "file1_init = '''import streamlit as st\n",
    "''' + '''from massnomisweb import''' + MultiApp\n",
    "\n",
    "file1_middle_bs = '''app = MultiApp()\n",
    "st.set_page_config(layout=\"wide\")\n",
    "st.markdown(\"\"\"\n",
    "# \n",
    "\"\"\")'''\n",
    "beggining_file2 = file1_init + '''\n",
    "''' + file1_middle_bs\n",
    "print(beggining_file2)"
   ]
  },
  {
   "cell_type": "code",
   "execution_count": 364,
   "metadata": {},
   "outputs": [],
   "source": [
    "with open(\"file2.py\") as f:\n",
    "    lines = f.readlines()\n",
    "with open(\"file2.py\", \"w\") as f:\n",
    "    lines.insert(0, beggining_file2)\n",
    "    f.write(\"\\n\".join(lines))"
   ]
  },
  {
   "cell_type": "code",
   "execution_count": 365,
   "metadata": {},
   "outputs": [],
   "source": [
    "\n",
    "# with open(\"file2.py\") as f:\n",
    "#     lines = f.readlines()\n",
    "# with open(\"file2.py\", \"w\") as f:\n",
    "#     lines.insert(14, app_add_app)\n",
    "#     f.write(\"\\n\".join(lines))\n",
    "\n"
   ]
  },
  {
   "cell_type": "code",
   "execution_count": 366,
   "metadata": {},
   "outputs": [],
   "source": [
    "\n",
    "# + \"\\\"\" + x + \"\\\"\""
   ]
  },
  {
   "cell_type": "code",
   "execution_count": 367,
   "metadata": {},
   "outputs": [],
   "source": [
    "init_imports = '''import streamlit as st\n",
    "import plotly\n",
    "import plotly.express as px\n",
    "import pandas as pd\n",
    "import json\n",
    "def app():\n",
    "'''\n",
    "toss_query = \"    query_id =\" + \"\\\"\" + query_id +  \"\\\"\"\n",
    "query_parser  = '''\n",
    "    df = pd.read_json(f\"https://api.flipsidecrypto.com/api/v2/queries/{query_id}/data/latest\",\n",
    "    convert_dates=[\"TIMESTAMP_NTZ\"],\n",
    ")    \n",
    "'''\n",
    "tf_thing = '''\n",
    "    t_f = False\n",
    "    st.sidebar.write(\"Choose y-axis scale\")\n",
    "    check = st.sidebar.checkbox(\"Linear/Log\")\n",
    "    if check: \n",
    "        t_f = True\n",
    "'''\n",
    "chart_template = \"    df = px.\" + chart_type +\"(\" \"df, \" + \"x = \" + \"\\\"\" + x + \"\\\"\" + \" , \" + \"y = \" + \"\\\"\" + y + \"\\\"\" + \" , \"+\"title = \" + \"\\\"\" + title + \"\\\"\" + \" , \" \"orientation = \" +\"\\\"\" + \"v\"+ \"\\\"\" + \" , \"+ \"template = \" + \"\\\"\" + \"plotly_white\" + \"\\\"\" + \" , \" + \" width = 1000, height = 600, log_y = t_f)\"\n",
    "sd = init_imports + toss_query + query_parser + tf_thing + chart_template\n",
    "with open(\"file1.py\") as f:\n",
    "    lines = f.readlines()\n",
    "with open(\"file1.py\", \"w\") as f:\n",
    "    lines.insert(0, sd)\n",
    "    f.write(\"\\n\".join(lines))\n",
    "\n",
    "\n"
   ]
  },
  {
   "cell_type": "code",
   "execution_count": 368,
   "metadata": {},
   "outputs": [],
   "source": [
    "multiapp_setup = '''import streamlit as st\n",
    "import plotly\n",
    "import plotly.express as px\n",
    "import pandas as pd\n",
    "import json\n",
    "\"\"\"Frameworks for running multiple Streamlit applications as a single app.\n",
    "\"\"\"\n",
    "\n",
    "class MultiApp:\n",
    "    \"\"\"Framework for combining multiple streamlit applications.\n",
    "    Usage:\n",
    "        def foo():\n",
    "            st.title(\"Hello Foo\")\n",
    "        def bar():\n",
    "            st.title(\"Hello Bar\")\n",
    "        app = MultiApp()\n",
    "        app.add_app(\"Foo\", foo)\n",
    "        app.add_app(\"Bar\", bar)\n",
    "        app.run()\n",
    "    It is also possible keep each application in a separate file.\n",
    "        import foo\n",
    "        import bar\n",
    "        app = MultiApp()\n",
    "        app.add_app(\"Foo\", foo.app)\n",
    "        app.add_app(\"Bar\", bar.app)\n",
    "        app.run()\n",
    "    \"\"\"\n",
    "    def __init__(self):\n",
    "        self.apps = []\n",
    "\n",
    "    def add_app(self, title, func):\n",
    "        \"\"\"Adds a new application.\n",
    "        Parameters\n",
    "        ----------\n",
    "        func:\n",
    "            the python function to render this app.\n",
    "        title:\n",
    "            title of the app. Appears in the dropdown in the sidebar.\n",
    "        \"\"\"\n",
    "        self.apps.append({\n",
    "            \"title\": title,\n",
    "            \"function\": func\n",
    "        })\n",
    "\n",
    "    def run(self):\n",
    "        # app = st.sidebar.radio(\n",
    "        app = st.selectbox(\n",
    "            'Navigation, select your query',\n",
    "            self.apps,\n",
    "            format_func=lambda app: app['title'])\n",
    "\n",
    "        app['function']()'''\n",
    "with open(\"file3.py\") as f:\n",
    "    lines = f.readlines()\n",
    "with open(\"file3.py\", \"w\") as f:\n",
    "    lines.insert(0, multiapp_setup)\n",
    "    f.write(\"\\n\".join(lines))"
   ]
  },
  {
   "cell_type": "code",
   "execution_count": 369,
   "metadata": {},
   "outputs": [],
   "source": [
    "# save_path = '/massnomisweb/'\n",
    "# file_name = \"test.txt\"\n",
    "\n",
    "# completeName = os.path.join(save_path, file_name)\n",
    "# print(completeName)"
   ]
  },
  {
   "cell_type": "code",
   "execution_count": null,
   "metadata": {},
   "outputs": [],
   "source": []
  }
 ],
 "metadata": {
  "interpreter": {
   "hash": "8b8334dab9339717f727a1deaf837b322d7a41c20d15cc86be99a8e69ceec8ce"
  },
  "kernelspec": {
   "display_name": "Python 3.8.12 64-bit ('3.8.12': pyenv)",
   "language": "python",
   "name": "python3"
  },
  "language_info": {
   "codemirror_mode": {
    "name": "ipython",
    "version": 3
   },
   "file_extension": ".py",
   "mimetype": "text/x-python",
   "name": "python",
   "nbconvert_exporter": "python",
   "pygments_lexer": "ipython3",
   "version": "3.10.0"
  },
  "orig_nbformat": 4
 },
 "nbformat": 4,
 "nbformat_minor": 2
}
