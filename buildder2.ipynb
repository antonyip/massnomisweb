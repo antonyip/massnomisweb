{
 "cells": [
  {
   "cell_type": "code",
   "execution_count": 173,
   "metadata": {},
   "outputs": [
    {
     "name": "stdout",
     "output_type": "stream",
     "text": [
      "file_name = \n",
      "query_id = 5b7c6f3a-2ab1-45b7-be8e-165b620b36ea\n"
     ]
    }
   ],
   "source": [
    "import json\n",
    "import pandas as pd\n",
    "import os\n",
    "file_name = input(\"file_name\")\n",
    "print(\"file_name = \" + file_name)\n",
    "query_id = input(\"api/query_id\")\n",
    "print(\"query_id = \" + query_id)\n",
    "\n"
   ]
  },
  {
   "cell_type": "code",
   "execution_count": 174,
   "metadata": {},
   "outputs": [
    {
     "name": "stdout",
     "output_type": "stream",
     "text": [
      "ADDRESS_NAME\n",
      "AVG(AMOUNT_UUSD)\n",
      "DAY\n",
      "MEDIAN(AMOUNT_UUSD)\n",
      "SUM(AMOUNT_UUSD)\n"
     ]
    }
   ],
   "source": [
    "    query_id = query_id\n",
    "    df = pd.read_json(\n",
    "        f\"https://api.flipsidecrypto.com/api/v2/queries/{query_id}/data/latest\",\n",
    "        convert_dates=[\"TIMESTAMP_NTZ\"],\n",
    "    )\n",
    "    for col in df.columns:\n",
    "        print(col)\n",
    "  "
   ]
  },
  {
   "cell_type": "code",
   "execution_count": 175,
   "metadata": {},
   "outputs": [
    {
     "name": "stdout",
     "output_type": "stream",
     "text": [
      "chart types are: bar, scatter, line\n",
      "chart_type = bar\n",
      "x = bar\n",
      "y = bar\n"
     ]
    }
   ],
   "source": [
    "print(\"chart types are: bar, scatter, line\")\n",
    "chart_type = input(\"chart_type\")\n",
    "print(\"chart_type = \" + chart_type)\n",
    "x = input(\"x\")\n",
    "print(\"x = \" + x)\n",
    "y = input(\"y\")\n",
    "print(\"y = \" + y)\n",
    "title = input(\"title\") \n",
    "print(\"input = \" + input)\n",
    "\n"
   ]
  },
  {
   "cell_type": "code",
   "execution_count": 176,
   "metadata": {},
   "outputs": [],
   "source": [
    "\n",
    "app_add_app = (\"app.add_app(\" + \"\\\"\" + file_name +  \"\\\"\" + \",\" + file_name + \".app)\")\n",
    "app_from_apps_import = \"from apps import \" + file_name\n",
    "with open(\"file1.py\") as f:\n",
    "    lines = f.readlines()\n",
    "with open(\"file1.py\", \"w\") as f:\n",
    "    lines.insert(0, app_from_apps_import)\n",
    "    f.write(\"\\n\".join(lines))\n",
    "\n",
    "\n"
   ]
  },
  {
   "cell_type": "code",
   "execution_count": 177,
   "metadata": {},
   "outputs": [],
   "source": [
    "\n",
    "with open(\"file1.py\") as f:\n",
    "    lines = f.readlines()\n",
    "with open(\"file1.py\", \"w\") as f:\n",
    "    lines.insert(14, app_add_app)\n",
    "    f.write(\"\\n\".join(lines))\n",
    "\n"
   ]
  },
  {
   "cell_type": "code",
   "execution_count": 178,
   "metadata": {},
   "outputs": [],
   "source": [
    "\n",
    "# + \"\\\"\" + x + \"\\\"\""
   ]
  },
  {
   "cell_type": "code",
   "execution_count": 182,
   "metadata": {},
   "outputs": [],
   "source": [
    "\n",
    "init_imports = '''import streamlit as st\n",
    "import plotly\n",
    "import plotly.express as px\n",
    "import statsmodels.api as sm\n",
    "import pandas as pd\n",
    "import json\n",
    "def app():\n",
    "'''\n",
    "toss_query = \"    query_id =\" + \"\\\"\" + query_id +  \"\\\"\"\n",
    "query_parser  = '''\n",
    "    df = pd.read_json(f\"https://api.flipsidecrypto.com/api/v2/queries/{query_id}/data/latest\",\n",
    "    convert_dates=[\"TIMESTAMP_NTZ\"],\n",
    ")    \n",
    "'''\n",
    "\n",
    "tf_thing = '''\n",
    "    t_f = False\n",
    "    st.sidebar.write(\"Choose y-axis scale\")\n",
    "    check = st.sidebar.checkbox(\"Linear/Log\")\n",
    "    if check: \n",
    "        t_f = True\n",
    "'''\n",
    "chart_template = \"    df = px.\" + chart_type +\"(\" \"df, \" + \"x = \" + \"\\\"\" + x + \"\\\"\" + \" , \" + \"y = \" + \"\\\"\" + y + \"\\\"\" + \" , \"+\"title = \" + \"\\\"\" + title + \"\\\"\" + \" , \" \"orientation = \" +\"\\\"\" + \"v\"+ \"\\\"\" + \" , \"+ \"template = \" + \"\\\"\" + \"plotly_white\" + \"\\\"\" + \" , \" + \" width = 1000, height = 600, log_y = t_f)\"\n",
    "sd = init_imports + toss_query + query_parser + tf_thing + chart_template\n",
    "with open(\"file1.py\") as f:\n",
    "    lines = f.readlines()\n",
    "with open(\"file1.py\", \"w\") as f:\n",
    "    lines.insert(0, sd)\n",
    "    f.write(\"\\n\".join(lines))\n",
    "\n",
    "\n"
   ]
  }
 ],
 "metadata": {
  "interpreter": {
   "hash": "8b8334dab9339717f727a1deaf837b322d7a41c20d15cc86be99a8e69ceec8ce"
  },
  "kernelspec": {
   "display_name": "Python 3.8.12 64-bit ('3.8.12': pyenv)",
   "language": "python",
   "name": "python3"
  },
  "language_info": {
   "codemirror_mode": {
    "name": "ipython",
    "version": 3
   },
   "file_extension": ".py",
   "mimetype": "text/x-python",
   "name": "python",
   "nbconvert_exporter": "python",
   "pygments_lexer": "ipython3",
   "version": "3.10.0"
  },
  "orig_nbformat": 4
 },
 "nbformat": 4,
 "nbformat_minor": 2
}
