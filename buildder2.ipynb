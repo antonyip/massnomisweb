{
 "cells": [
  {
   "cell_type": "code",
   "execution_count": 47,
   "metadata": {},
   "outputs": [
    {
     "name": "stdout",
     "output_type": "stream",
     "text": [
      "file_name = 0564c7df-f6f2-4f14-bf8e-816594ab431c\n",
      "query_id = 0564c7df-f6f2-4f14-bf8e-816594ab431c\n"
     ]
    }
   ],
   "source": [
    "import json\n",
    "import pandas as pd\n",
    "import os\n",
    "file_name = input(\"file_name\")\n",
    "print(\"file_name = \" + file_name)\n",
    "query_id = input(\"api/query_id\")\n",
    "print(\"query_id = \" + query_id)\n",
    "\n"
   ]
  },
  {
   "cell_type": "code",
   "execution_count": null,
   "metadata": {},
   "outputs": [],
   "source": []
  },
  {
   "cell_type": "code",
   "execution_count": 48,
   "metadata": {},
   "outputs": [
    {
     "name": "stdout",
     "output_type": "stream",
     "text": [
      "DATE\n",
      "ETHEREUM_UNIQUE_WALLETS\n",
      "POLYGON_UNIQUE_WALLETS\n"
     ]
    }
   ],
   "source": [
    "    query_id = query_id\n",
    "    df = pd.read_json(\n",
    "        f\"https://api.flipsidecrypto.com/api/v2/queries/{query_id}/data/latest\",\n",
    "        convert_dates=[\"TIMESTAMP_NTZ\"],\n",
    "    )\n",
    "    for col in df.columns:\n",
    "        print(col)\n",
    "  "
   ]
  },
  {
   "cell_type": "code",
   "execution_count": 49,
   "metadata": {},
   "outputs": [
    {
     "name": "stdout",
     "output_type": "stream",
     "text": [
      "chart types are: bar, scatter, line\n",
      "chart_type = 0564c7df-f6f2-4f14-bf8e-816594ab431c\n",
      "x = 0564c7df-f6f2-4f14-bf8e-816594ab431c\n",
      "y = 0564c7df-f6f2-4f14-bf8e-816594ab431c\n"
     ]
    }
   ],
   "source": [
    "print(\"chart types are: bar, scatter, line\")\n",
    "chart_type = input(\"chart_type\")\n",
    "print(\"chart_type = \" + chart_type)\n",
    "x = input(\"x\")\n",
    "print(\"x = \" + x)\n",
    "y = input(\"y\")\n",
    "print(\"y = \" + y)\n"
   ]
  },
  {
   "cell_type": "code",
   "execution_count": 50,
   "metadata": {},
   "outputs": [],
   "source": [
    "\n",
    "# only works if the file already exists\n",
    "# with open(\"file1.py\", \"x+\") as f:\n",
    "#     lines.insert(0, \"a = 1\")\n",
    "#     f.write(\"\\n\".join(lines))"
   ]
  },
  {
   "cell_type": "code",
   "execution_count": 102,
   "metadata": {},
   "outputs": [],
   "source": [
    "file_name = \"yeet\"\n",
    "insert1 = \"app.add_app(\"\n",
    "insert2 = \",\"\n",
    "insert3 = \".app)\" \n",
    "insert4 = (insert1 + \"\\\"\" + file_name +  \"\\\"\" + insert2 + file_name + insert3)\n",
    "insert5 = (insert4)\n",
    "insert6 = \"from apps import \" + file_name\n",
    "with open(\"file1.py\") as f:\n",
    "    lines = f.readlines()\n",
    "with open(\"file1.py\", \"w\") as f:\n",
    "    lines.insert(0, insert6)\n",
    "    f.write(\"\\n\".join(lines))\n",
    "\n",
    "\n"
   ]
  },
  {
   "cell_type": "code",
   "execution_count": 103,
   "metadata": {},
   "outputs": [],
   "source": [
    "\n",
    "with open(\"file1.py\") as f:\n",
    "    lines = f.readlines()\n",
    "with open(\"file1.py\", \"w\") as f:\n",
    "    lines.insert(14, insert5)\n",
    "    f.write(\"\\n\".join(lines))\n",
    "\n"
   ]
  },
  {
   "cell_type": "code",
   "execution_count": null,
   "metadata": {},
   "outputs": [],
   "source": []
  },
  {
   "cell_type": "code",
   "execution_count": 121,
   "metadata": {},
   "outputs": [
    {
     "name": "stdout",
     "output_type": "stream",
     "text": [
      "title = \"\" , orientation = \"v\" , template = \"plotly_white\" ,  width = 1000, height = 600, log_y = t_f)\n"
     ]
    }
   ],
   "source": [
    "# md =   eth_fees_graph = px.line(\n",
    "#         eth_fees_flipside_df,\n",
    "#         x = \"ETH_DAY\",\n",
    "#         y = columns,\n",
    "#         #color = columns,\n",
    "#         title = \"\",\n",
    "md = \"title = \" + \"\\\"\" + \"\\\"\" + \" , \" \"orientation = \" +\"\\\"\" + \"v\"+ \"\\\"\" + \" , \"+ \"template = \" + \"\\\"\" + \"plotly_white\" + \"\\\"\" + \" , \" + \" width = 1000, height = 600, log_y = t_f)\"\n",
    "print(md)\n",
    "\n"
   ]
  }
 ],
 "metadata": {
  "interpreter": {
   "hash": "8b8334dab9339717f727a1deaf837b322d7a41c20d15cc86be99a8e69ceec8ce"
  },
  "kernelspec": {
   "display_name": "Python 3.8.12 64-bit ('3.8.12': pyenv)",
   "language": "python",
   "name": "python3"
  },
  "language_info": {
   "codemirror_mode": {
    "name": "ipython",
    "version": 3
   },
   "file_extension": ".py",
   "mimetype": "text/x-python",
   "name": "python",
   "nbconvert_exporter": "python",
   "pygments_lexer": "ipython3",
   "version": "3.10.0"
  },
  "orig_nbformat": 4
 },
 "nbformat": 4,
 "nbformat_minor": 2
}
