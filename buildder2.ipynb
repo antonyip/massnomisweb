{
 "cells": [
  {
   "cell_type": "code",
   "execution_count": 14,
   "metadata": {},
   "outputs": [
    {
     "name": "stdout",
     "output_type": "stream",
     "text": [
      "query_id = 0564c7df-f6f2-4f14-bf8e-816594ab431c\n",
      "chart_type = 0564c7df-f6f2-4f14-bf8e-816594ab431c\n"
     ]
    }
   ],
   "source": [
    "import json\n",
    "query_id = input(\"api/query_id\")\n",
    "print(\"query_id = \" + query_id)\n",
    "chart_type = input(\"chart_type\")\n",
    "print(\"chart_type = \" + chart_type)\n"
   ]
  },
  {
   "cell_type": "code",
   "execution_count": null,
   "metadata": {},
   "outputs": [],
   "source": []
  },
  {
   "cell_type": "code",
   "execution_count": 16,
   "metadata": {},
   "outputs": [
    {
     "name": "stdout",
     "output_type": "stream",
     "text": [
      "DATE\n",
      "ETHEREUM_UNIQUE_WALLETS\n",
      "POLYGON_UNIQUE_WALLETS\n"
     ]
    }
   ],
   "source": [
    "    query_id = query_id\n",
    "    df = pd.read_json(\n",
    "        f\"https://api.flipsidecrypto.com/api/v2/queries/{query_id}/data/latest\",\n",
    "        convert_dates=[\"TIMESTAMP_NTZ\"],\n",
    "    )\n",
    "    for col in df.columns:\n",
    "        print(col)\n",
    "  "
   ]
  },
  {
   "cell_type": "code",
   "execution_count": null,
   "metadata": {},
   "outputs": [],
   "source": []
  }
 ],
 "metadata": {
  "interpreter": {
   "hash": "8b8334dab9339717f727a1deaf837b322d7a41c20d15cc86be99a8e69ceec8ce"
  },
  "kernelspec": {
   "display_name": "Python 3.8.12 64-bit ('3.8.12': pyenv)",
   "language": "python",
   "name": "python3"
  },
  "language_info": {
   "codemirror_mode": {
    "name": "ipython",
    "version": 3
   },
   "file_extension": ".py",
   "mimetype": "text/x-python",
   "name": "python",
   "nbconvert_exporter": "python",
   "pygments_lexer": "ipython3",
   "version": "3.8.12"
  },
  "orig_nbformat": 4
 },
 "nbformat": 4,
 "nbformat_minor": 2
}
