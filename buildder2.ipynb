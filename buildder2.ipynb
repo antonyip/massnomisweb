{
 "cells": [
  {
   "cell_type": "code",
   "execution_count": 3,
   "metadata": {},
   "outputs": [
    {
     "name": "stdout",
     "output_type": "stream",
     "text": [
      "query_id = 0564c7df-f6f2-4f14-bf8e-816594ab431c\n"
     ]
    }
   ],
   "source": [
    "import json\n",
    "import pandas as pd\n",
    "file_name = input(\"file_name\")\n",
    "print(\"file_name = \" + file_name)\n",
    "query_id = input(\"api/query_id\")\n",
    "print(\"query_id = \" + query_id)\n",
    "\n"
   ]
  },
  {
   "cell_type": "code",
   "execution_count": null,
   "metadata": {},
   "outputs": [],
   "source": []
  },
  {
   "cell_type": "code",
   "execution_count": 4,
   "metadata": {},
   "outputs": [
    {
     "name": "stdout",
     "output_type": "stream",
     "text": [
      "DATE\n",
      "ETHEREUM_UNIQUE_WALLETS\n",
      "POLYGON_UNIQUE_WALLETS\n"
     ]
    }
   ],
   "source": [
    "    query_id = query_id\n",
    "    df = pd.read_json(\n",
    "        f\"https://api.flipsidecrypto.com/api/v2/queries/{query_id}/data/latest\",\n",
    "        convert_dates=[\"TIMESTAMP_NTZ\"],\n",
    "    )\n",
    "    for col in df.columns:\n",
    "        print(col)\n",
    "  "
   ]
  },
  {
   "cell_type": "code",
   "execution_count": 5,
   "metadata": {},
   "outputs": [
    {
     "name": "stdout",
     "output_type": "stream",
     "text": [
      "bar, scatter, line\n",
      "chart_type = bar\n",
      "x = DATE\n",
      "y = ETHEREUM_UNIQUE_WALLETS\n"
     ]
    }
   ],
   "source": [
    "print(\"chart types are: bar, scatter, line\")\n",
    "chart_type = input(\"chart_type\")\n",
    "print(\"chart_type = \" + chart_type)\n",
    "x = input(\"x\")\n",
    "print(\"x = \" + x)\n",
    "y = input(\"y\")\n",
    "print(\"y = \" + y)\n"
   ]
  },
  {
   "cell_type": "code",
   "execution_count": 13,
   "metadata": {},
   "outputs": [
    {
     "ename": "FileExistsError",
     "evalue": "[Errno 17] File exists: 'file1.py'",
     "output_type": "error",
     "traceback": [
      "\u001b[1;31m---------------------------------------------------------------------------\u001b[0m",
      "\u001b[1;31mFileExistsError\u001b[0m                           Traceback (most recent call last)",
      "\u001b[1;32m~\\AppData\\Local\\Temp/ipykernel_18792/390549938.py\u001b[0m in \u001b[0;36m<module>\u001b[1;34m\u001b[0m\n\u001b[0;32m      2\u001b[0m \u001b[1;31m#     lines = f.readlines()\u001b[0m\u001b[1;33m\u001b[0m\u001b[1;33m\u001b[0m\u001b[0m\n\u001b[0;32m      3\u001b[0m \u001b[1;33m\u001b[0m\u001b[0m\n\u001b[1;32m----> 4\u001b[1;33m \u001b[1;32mwith\u001b[0m \u001b[0mopen\u001b[0m\u001b[1;33m(\u001b[0m\u001b[1;34m\"file1.py\"\u001b[0m\u001b[1;33m,\u001b[0m \u001b[1;34m\"x+\"\u001b[0m\u001b[1;33m)\u001b[0m \u001b[1;32mas\u001b[0m \u001b[0mf\u001b[0m\u001b[1;33m:\u001b[0m\u001b[1;33m\u001b[0m\u001b[1;33m\u001b[0m\u001b[0m\n\u001b[0m\u001b[0;32m      5\u001b[0m     \u001b[0mlines\u001b[0m\u001b[1;33m.\u001b[0m\u001b[0minsert\u001b[0m\u001b[1;33m(\u001b[0m\u001b[1;36m0\u001b[0m\u001b[1;33m,\u001b[0m \u001b[1;34m\"a = 1\"\u001b[0m\u001b[1;33m)\u001b[0m\u001b[1;33m\u001b[0m\u001b[1;33m\u001b[0m\u001b[0m\n\u001b[0;32m      6\u001b[0m     \u001b[0mf\u001b[0m\u001b[1;33m.\u001b[0m\u001b[0mwrite\u001b[0m\u001b[1;33m(\u001b[0m\u001b[1;34m\"\\n\"\u001b[0m\u001b[1;33m.\u001b[0m\u001b[0mjoin\u001b[0m\u001b[1;33m(\u001b[0m\u001b[0mlines\u001b[0m\u001b[1;33m)\u001b[0m\u001b[1;33m)\u001b[0m\u001b[1;33m\u001b[0m\u001b[1;33m\u001b[0m\u001b[0m\n",
      "\u001b[1;31mFileExistsError\u001b[0m: [Errno 17] File exists: 'file1.py'"
     ]
    }
   ],
   "source": [
    "\n",
    "# only works if the file already exists\n",
    "with open(\"file1.py\", \"x+\") as f:\n",
    "    lines.insert(0, \"a = 1\")\n",
    "    f.write(\"\\n\".join(lines))"
   ]
  },
  {
   "cell_type": "code",
   "execution_count": 14,
   "metadata": {},
   "outputs": [],
   "source": [
    "# only works for a new file\n",
    "with open(\"file1.py\") as f:\n",
    "    lines = f.readlines()\n",
    "with open(\"file1.py\", \"w\") as f:\n",
    "    lines.insert(0, \"a = 1\")\n",
    "    f.write(\"\\n\".join(lines))"
   ]
  },
  {
   "cell_type": "code",
   "execution_count": null,
   "metadata": {},
   "outputs": [],
   "source": []
  },
  {
   "cell_type": "code",
   "execution_count": 15,
   "metadata": {},
   "outputs": [],
   "source": [
    "#     eth_fees_graph = px.line(\n",
    "#         eth_fees_flipside_df, #this is the dataframe you are trying to plot\n",
    "#         x = \"ETH_DAY\",\n",
    "#         y = columns,\n",
    "#         #color = columns,\n",
    "#         title = \"<b>DIY / Choose your own adventure - ETH Fees</b>\",\n",
    "#         orientation = \"v\",\n",
    "#         template = \"plotly_white\",\n",
    "#         width = 1000,\n",
    "#         height = 600,\n",
    "#         log_y = t_f\n",
    "#     )\n",
    "    \n",
    "\n",
    "#     st.plotly_chart(eth_fees_graph)"
   ]
  }
 ],
 "metadata": {
  "interpreter": {
   "hash": "8b8334dab9339717f727a1deaf837b322d7a41c20d15cc86be99a8e69ceec8ce"
  },
  "kernelspec": {
   "display_name": "Python 3.8.12 64-bit ('3.8.12': pyenv)",
   "language": "python",
   "name": "python3"
  },
  "language_info": {
   "codemirror_mode": {
    "name": "ipython",
    "version": 3
   },
   "file_extension": ".py",
   "mimetype": "text/x-python",
   "name": "python",
   "nbconvert_exporter": "python",
   "pygments_lexer": "ipython3",
   "version": "3.10.0"
  },
  "orig_nbformat": 4
 },
 "nbformat": 4,
 "nbformat_minor": 2
}
